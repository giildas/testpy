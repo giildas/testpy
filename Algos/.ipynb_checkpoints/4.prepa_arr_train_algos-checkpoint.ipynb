{
 "cells": [
  {
   "cell_type": "code",
   "execution_count": null,
   "metadata": {},
   "outputs": [],
   "source": [
    "import numpy as np\n",
    "import pandas as pd\n",
    "import psycopg2\n",
    "from sentence_transformers import SentenceTransformer"
   ]
  },
  {
   "cell_type": "code",
   "execution_count": null,
   "metadata": {},
   "outputs": [],
   "source": [
    "# Configuration de la connexion à la base de données PostgreSQL\n",
    "conn = psycopg2.connect(\n",
    "    dbname=\"db_pco\", \n",
    "    user=\"postgres\", \n",
    "    password=\"postgre\", \n",
    "    host=\"localhost\", \n",
    "    port=\"5432\",\n",
    "    #options=\"-c client_encoding=UTF8\"\n",
    ")"
   ]
  },
  {
   "cell_type": "code",
   "execution_count": null,
   "metadata": {},
   "outputs": [],
   "source": [
    "# Requêtes SQL : tables pour entrainement algo 1 et algo 2\n",
    "query_offre = \"\"\"\n",
    "SELECT *\n",
    "FROM \"segm_offreVSnon_offre\"\n",
    "\"\"\"\n",
    "\n",
    "query_comp = \"\"\"\n",
    "SELECT *\n",
    "FROM \"segm_compVSoffre\"\n",
    "\"\"\"\n",
    "\n",
    "# Chargement des données dans un DataFrame Pandas\n",
    "df_offre = pd.read_sql_query(query_offre, conn)\n",
    "df_comp = pd.read_sql_query(query_comp, conn)\n",
    "\n",
    "# Fermer la connexion à la base de données\n",
    "conn.close()"
   ]
  },
  {
   "cell_type": "code",
   "execution_count": null,
   "metadata": {},
   "outputs": [],
   "source": [
    "# Supprimer les doublons\n",
    "df_offre.drop_duplicates(subset='segment', inplace=True)\n",
    "df_comp.drop_duplicates(subset='segment', inplace=True)\n",
    "\n",
    "df_algo = df_offre.reset_index(drop=True)\n",
    "df_comp = df_comp.reset_index(drop=True)\n",
    "print(df_algo.head())\n",
    "print(df_comp.head())"
   ]
  },
  {
   "cell_type": "markdown",
   "metadata": {},
   "source": [
    "# Embedding"
   ]
  },
  {
   "cell_type": "code",
   "execution_count": null,
   "metadata": {},
   "outputs": [],
   "source": [
    "# Chargement des vecteurs d'embedding\n",
    "model = SentenceTransformer(\"Lajavaness/sentence-camembert-large\")\n",
    "\n",
    "# Transformation des segments en vecteurs - préparation de l'array d'entrainement\n",
    "segments_algo = np.array(df_algo['segment'])\n",
    "segments_comp= np.array(df_comp['segment'])\n",
    "\n",
    "vectors_algo = model.encode(segments_algo, show_progress_bar=True)\n",
    "vectors_comp = model.encode(segments_comp, show_progress_bar=True)\n",
    "\n",
    "print(vectors_algo.shape)\n",
    "print(vectors_comp.shape)"
   ]
  },
  {
   "cell_type": "code",
   "execution_count": null,
   "metadata": {},
   "outputs": [],
   "source": [
    "# Concaténation des données avec les vecteurs d'embedding\n",
    "array_algo = np.array(df_algo)\n",
    "array_algo = np.concatenate((array_algo, vectors_algo), axis=1)\n",
    "print(array_algo.shape)\n",
    "print(array_algo[0])\n",
    "\n",
    "array_comp= np.array(df_comp)\n",
    "array_comp = np.concatenate((array_comp, vectors_comp), axis=1)\n",
    "print(array_comp.shape)\n",
    "print(array_comp[0])\n",
    "\n",
    "#np.save('array_algo_1.npy', array_algo)\n",
    "#np.save('array_algo_2.npy', array_comp)"
   ]
  },
  {
   "cell_type": "code",
   "execution_count": null,
   "metadata": {},
   "outputs": [],
   "source": []
  }
 ],
 "metadata": {
  "kernelspec": {
   "display_name": "Python 3 (ipykernel)",
   "language": "python",
   "name": "python3"
  },
  "language_info": {
   "codemirror_mode": {
    "name": "ipython",
    "version": 3
   },
   "file_extension": ".py",
   "mimetype": "text/x-python",
   "name": "python",
   "nbconvert_exporter": "python",
   "pygments_lexer": "ipython3",
   "version": "3.11.5"
  }
 },
 "nbformat": 4,
 "nbformat_minor": 2
}
